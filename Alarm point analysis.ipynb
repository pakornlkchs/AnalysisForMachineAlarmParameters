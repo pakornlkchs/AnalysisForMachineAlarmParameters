{
 "cells": [
  {
   "cell_type": "markdown",
   "metadata": {},
   "source": [
    "## Data Analysis for Alarm parameters\n",
    "`To find optimal control parameters for normal machine operation.`"
   ]
  },
  {
   "cell_type": "markdown",
   "metadata": {},
   "source": [
    "### Import packages"
   ]
  },
  {
   "cell_type": "code",
   "execution_count": 1,
   "metadata": {},
   "outputs": [],
   "source": [
    "# Standard operational package imports.\n",
    "import numpy as np\n",
    "import pandas as pd\n",
    "from datetime import datetime as dt\n",
    "\n",
    "# Visualization package imports.\n",
    "import matplotlib.pyplot as plt\n",
    "import seaborn as sns\n",
    "\n",
    "# Additional unofficial packages for importing data\n",
    "from Utilities import * # self-created packages for retrieving data from PI system"
   ]
  },
  {
   "cell_type": "markdown",
   "metadata": {},
   "source": [
    "### Retrieving data from PI system\n",
    "*this step use confidential information*"
   ]
  },
  {
   "cell_type": "code",
   "execution_count": 3,
   "metadata": {},
   "outputs": [],
   "source": [
    "# Define parameters to use in function\n",
    "access_token = {'user' :'xxxxxxxx','pass' : 'xxxxxxx'}\n",
    "startdate = '2023-07-01'\n",
    "enddate = dt.today().date()\n",
    "pi_list = ['PVC9-EIC4501B.PV', 'PVC9-EIC4501B.SV']\n",
    "interval_time = '1s'\n",
    "server = 'MOC'"
   ]
  },
  {
   "cell_type": "code",
   "execution_count": 26,
   "metadata": {},
   "outputs": [],
   "source": [
    "# Get sensor data from PI system and load it into dataframe\n",
    "# df_pi = retrieve_piDATA(startdate, enddate, pi_list, interval_time, server, access_token)"
   ]
  },
  {
   "cell_type": "code",
   "execution_count": 254,
   "metadata": {},
   "outputs": [],
   "source": [
    "# Export data to csv file for further uses.\n",
    "# df_pi.to_csv(f'PIdata_{startdate}_{interval_time}.csv', index = False)"
   ]
  },
  {
   "cell_type": "markdown",
   "metadata": {},
   "source": [
    "I already saved PI data in csv file so I decided to read data from csv file instead."
   ]
  },
  {
   "cell_type": "code",
   "execution_count": 4,
   "metadata": {},
   "outputs": [],
   "source": [
    "df_pi = pd.read_csv('PIdata_2023-07-01_1s.csv')"
   ]
  },
  {
   "cell_type": "markdown",
   "metadata": {},
   "source": [
    "### Explore and Transform Data"
   ]
  },
  {
   "cell_type": "markdown",
   "metadata": {},
   "source": [
    "Display top 5 rows from the dataframe"
   ]
  },
  {
   "cell_type": "code",
   "execution_count": 5,
   "metadata": {},
   "outputs": [
    {
     "data": {
      "text/html": [
       "<div>\n",
       "<style scoped>\n",
       "    .dataframe tbody tr th:only-of-type {\n",
       "        vertical-align: middle;\n",
       "    }\n",
       "\n",
       "    .dataframe tbody tr th {\n",
       "        vertical-align: top;\n",
       "    }\n",
       "\n",
       "    .dataframe thead th {\n",
       "        text-align: right;\n",
       "    }\n",
       "</style>\n",
       "<table border=\"1\" class=\"dataframe\">\n",
       "  <thead>\n",
       "    <tr style=\"text-align: right;\">\n",
       "      <th></th>\n",
       "      <th>Date</th>\n",
       "      <th>PVC9-EIC4501B.PV</th>\n",
       "      <th>PVC9-EIC4501B.SV</th>\n",
       "    </tr>\n",
       "  </thead>\n",
       "  <tbody>\n",
       "    <tr>\n",
       "      <th>0</th>\n",
       "      <td>2023-07-01 00:00:00</td>\n",
       "      <td>164.519312</td>\n",
       "      <td>165.0</td>\n",
       "    </tr>\n",
       "    <tr>\n",
       "      <th>1</th>\n",
       "      <td>2023-07-01 00:00:01</td>\n",
       "      <td>164.508885</td>\n",
       "      <td>165.0</td>\n",
       "    </tr>\n",
       "    <tr>\n",
       "      <th>2</th>\n",
       "      <td>2023-07-01 00:00:02</td>\n",
       "      <td>164.498459</td>\n",
       "      <td>165.0</td>\n",
       "    </tr>\n",
       "    <tr>\n",
       "      <th>3</th>\n",
       "      <td>2023-07-01 00:00:03</td>\n",
       "      <td>164.488032</td>\n",
       "      <td>165.0</td>\n",
       "    </tr>\n",
       "    <tr>\n",
       "      <th>4</th>\n",
       "      <td>2023-07-01 00:00:04</td>\n",
       "      <td>164.477605</td>\n",
       "      <td>165.0</td>\n",
       "    </tr>\n",
       "  </tbody>\n",
       "</table>\n",
       "</div>"
      ],
      "text/plain": [
       "                  Date  PVC9-EIC4501B.PV  PVC9-EIC4501B.SV\n",
       "0  2023-07-01 00:00:00        164.519312             165.0\n",
       "1  2023-07-01 00:00:01        164.508885             165.0\n",
       "2  2023-07-01 00:00:02        164.498459             165.0\n",
       "3  2023-07-01 00:00:03        164.488032             165.0\n",
       "4  2023-07-01 00:00:04        164.477605             165.0"
      ]
     },
     "execution_count": 5,
     "metadata": {},
     "output_type": "execute_result"
    }
   ],
   "source": [
    "df_pi.head()"
   ]
  },
  {
   "cell_type": "markdown",
   "metadata": {},
   "source": [
    "Column name did not explain values in its column so I will rename them to make it more accurate. "
   ]
  },
  {
   "cell_type": "code",
   "execution_count": 6,
   "metadata": {},
   "outputs": [],
   "source": [
    "df_pi.columns = ['Date', 'Actual', 'Set']"
   ]
  },
  {
   "cell_type": "code",
   "execution_count": 7,
   "metadata": {},
   "outputs": [
    {
     "data": {
      "text/plain": [
       "(7430400, 3)"
      ]
     },
     "execution_count": 7,
     "metadata": {},
     "output_type": "execute_result"
    }
   ],
   "source": [
    "df_pi.shape"
   ]
  },
  {
   "cell_type": "markdown",
   "metadata": {},
   "source": [
    "The dataframe contains 7,430,400 rows and 3 columns."
   ]
  },
  {
   "cell_type": "code",
   "execution_count": 8,
   "metadata": {},
   "outputs": [
    {
     "name": "stdout",
     "output_type": "stream",
     "text": [
      "<class 'pandas.core.frame.DataFrame'>\n",
      "RangeIndex: 7430400 entries, 0 to 7430399\n",
      "Data columns (total 3 columns):\n",
      " #   Column  Dtype  \n",
      "---  ------  -----  \n",
      " 0   Date    object \n",
      " 1   Actual  float64\n",
      " 2   Set     float64\n",
      "dtypes: float64(2), object(1)\n",
      "memory usage: 170.1+ MB\n"
     ]
    }
   ],
   "source": [
    "df_pi.info()"
   ]
  },
  {
   "cell_type": "markdown",
   "metadata": {},
   "source": [
    "\"Date\" column's data type is not correct. Transform the data type into datetime."
   ]
  },
  {
   "cell_type": "code",
   "execution_count": 9,
   "metadata": {},
   "outputs": [],
   "source": [
    "df_pi['Date'] = pd.to_datetime(df_pi['Date'])"
   ]
  },
  {
   "cell_type": "markdown",
   "metadata": {},
   "source": [
    "**Check missing values in the dataframe**"
   ]
  },
  {
   "cell_type": "code",
   "execution_count": 10,
   "metadata": {},
   "outputs": [
    {
     "data": {
      "text/plain": [
       "Date      0.000000\n",
       "Actual    0.353803\n",
       "Set       0.015652\n",
       "dtype: float64"
      ]
     },
     "execution_count": 10,
     "metadata": {},
     "output_type": "execute_result"
    }
   ],
   "source": [
    "(df_pi.isna().sum()/len(df_pi))*100"
   ]
  },
  {
   "cell_type": "markdown",
   "metadata": {},
   "source": [
    "\"Actual\" column and \"Set\" column has 0.35% and 0.02% of missing values respectively.\\\n",
    "These are considered as very small amount so I remove it all."
   ]
  },
  {
   "cell_type": "code",
   "execution_count": 11,
   "metadata": {},
   "outputs": [],
   "source": [
    "df_pi.dropna(axis = 0, inplace = True)"
   ]
  },
  {
   "cell_type": "code",
   "execution_count": 12,
   "metadata": {},
   "outputs": [
    {
     "data": {
      "text/plain": [
       "Date      0\n",
       "Actual    0\n",
       "Set       0\n",
       "dtype: int64"
      ]
     },
     "execution_count": 12,
     "metadata": {},
     "output_type": "execute_result"
    }
   ],
   "source": [
    "# Check missing values again\n",
    "df_pi.isna().sum()"
   ]
  },
  {
   "cell_type": "markdown",
   "metadata": {},
   "source": [
    "There are no missing values left."
   ]
  },
  {
   "cell_type": "markdown",
   "metadata": {},
   "source": [
    "Next, I want to calculate avarage value (mean) and standard deviation (SD) from actual read data for each set point group to set alarm boundary with 3 SD from set point.\\\n",
    "So I check the set point data if they can be grouped. "
   ]
  },
  {
   "cell_type": "code",
   "execution_count": 13,
   "metadata": {},
   "outputs": [
    {
     "data": {
      "text/plain": [
       "[165.0,\n",
       " 164.99999999154824,\n",
       " 164.99164988199868,\n",
       " 164.97498321533203,\n",
       " 164.95831654866538,\n",
       " 164.9416498819987,\n",
       " 164.92498321533202,\n",
       " 164.90831654866537,\n",
       " 164.89164988199872,\n",
       " 164.87498321533204]"
      ]
     },
     "execution_count": 13,
     "metadata": {},
     "output_type": "execute_result"
    }
   ],
   "source": [
    "# check first 10 setting values from PI\n",
    "df_pi['Set'].unique().tolist()[:10]"
   ]
  },
  {
   "cell_type": "markdown",
   "metadata": {},
   "source": [
    "From the results, the setting values are vary and might be too specific so I round it up to integer and add it to new column named 'Set_point'"
   ]
  },
  {
   "cell_type": "code",
   "execution_count": 14,
   "metadata": {},
   "outputs": [
    {
     "data": {
      "text/html": [
       "<div>\n",
       "<style scoped>\n",
       "    .dataframe tbody tr th:only-of-type {\n",
       "        vertical-align: middle;\n",
       "    }\n",
       "\n",
       "    .dataframe tbody tr th {\n",
       "        vertical-align: top;\n",
       "    }\n",
       "\n",
       "    .dataframe thead th {\n",
       "        text-align: right;\n",
       "    }\n",
       "</style>\n",
       "<table border=\"1\" class=\"dataframe\">\n",
       "  <thead>\n",
       "    <tr style=\"text-align: right;\">\n",
       "      <th></th>\n",
       "      <th>Date</th>\n",
       "      <th>Actual</th>\n",
       "      <th>Set</th>\n",
       "      <th>Set_point</th>\n",
       "    </tr>\n",
       "  </thead>\n",
       "  <tbody>\n",
       "    <tr>\n",
       "      <th>0</th>\n",
       "      <td>2023-07-01 00:00:00</td>\n",
       "      <td>164.519312</td>\n",
       "      <td>165.0</td>\n",
       "      <td>165.0</td>\n",
       "    </tr>\n",
       "    <tr>\n",
       "      <th>1</th>\n",
       "      <td>2023-07-01 00:00:01</td>\n",
       "      <td>164.508885</td>\n",
       "      <td>165.0</td>\n",
       "      <td>165.0</td>\n",
       "    </tr>\n",
       "    <tr>\n",
       "      <th>2</th>\n",
       "      <td>2023-07-01 00:00:02</td>\n",
       "      <td>164.498459</td>\n",
       "      <td>165.0</td>\n",
       "      <td>165.0</td>\n",
       "    </tr>\n",
       "    <tr>\n",
       "      <th>3</th>\n",
       "      <td>2023-07-01 00:00:03</td>\n",
       "      <td>164.488032</td>\n",
       "      <td>165.0</td>\n",
       "      <td>165.0</td>\n",
       "    </tr>\n",
       "    <tr>\n",
       "      <th>4</th>\n",
       "      <td>2023-07-01 00:00:04</td>\n",
       "      <td>164.477605</td>\n",
       "      <td>165.0</td>\n",
       "      <td>165.0</td>\n",
       "    </tr>\n",
       "  </tbody>\n",
       "</table>\n",
       "</div>"
      ],
      "text/plain": [
       "                 Date      Actual    Set  Set_point\n",
       "0 2023-07-01 00:00:00  164.519312  165.0      165.0\n",
       "1 2023-07-01 00:00:01  164.508885  165.0      165.0\n",
       "2 2023-07-01 00:00:02  164.498459  165.0      165.0\n",
       "3 2023-07-01 00:00:03  164.488032  165.0      165.0\n",
       "4 2023-07-01 00:00:04  164.477605  165.0      165.0"
      ]
     },
     "execution_count": 14,
     "metadata": {},
     "output_type": "execute_result"
    }
   ],
   "source": [
    "# round up setting value for grouping\n",
    "df_pi['Set_point'] = round(df_pi['Set'])\n",
    "df_pi.head()"
   ]
  },
  {
   "cell_type": "markdown",
   "metadata": {},
   "source": [
    "**Find mean value and standard deviation for each Set_point**"
   ]
  },
  {
   "cell_type": "code",
   "execution_count": 15,
   "metadata": {},
   "outputs": [
    {
     "data": {
      "text/html": [
       "<div>\n",
       "<style scoped>\n",
       "    .dataframe tbody tr th:only-of-type {\n",
       "        vertical-align: middle;\n",
       "    }\n",
       "\n",
       "    .dataframe tbody tr th {\n",
       "        vertical-align: top;\n",
       "    }\n",
       "\n",
       "    .dataframe thead th {\n",
       "        text-align: right;\n",
       "    }\n",
       "</style>\n",
       "<table border=\"1\" class=\"dataframe\">\n",
       "  <thead>\n",
       "    <tr style=\"text-align: right;\">\n",
       "      <th></th>\n",
       "      <th>Set_point</th>\n",
       "      <th>mean</th>\n",
       "      <th>standard</th>\n",
       "    </tr>\n",
       "  </thead>\n",
       "  <tbody>\n",
       "    <tr>\n",
       "      <th>0</th>\n",
       "      <td>100.0</td>\n",
       "      <td>129.898786</td>\n",
       "      <td>2.532789</td>\n",
       "    </tr>\n",
       "    <tr>\n",
       "      <th>1</th>\n",
       "      <td>101.0</td>\n",
       "      <td>129.807273</td>\n",
       "      <td>5.045454</td>\n",
       "    </tr>\n",
       "    <tr>\n",
       "      <th>2</th>\n",
       "      <td>102.0</td>\n",
       "      <td>129.738034</td>\n",
       "      <td>6.343199</td>\n",
       "    </tr>\n",
       "    <tr>\n",
       "      <th>3</th>\n",
       "      <td>103.0</td>\n",
       "      <td>102.578300</td>\n",
       "      <td>1.070147</td>\n",
       "    </tr>\n",
       "    <tr>\n",
       "      <th>4</th>\n",
       "      <td>104.0</td>\n",
       "      <td>103.853693</td>\n",
       "      <td>3.000247</td>\n",
       "    </tr>\n",
       "    <tr>\n",
       "      <th>...</th>\n",
       "      <td>...</td>\n",
       "      <td>...</td>\n",
       "      <td>...</td>\n",
       "    </tr>\n",
       "    <tr>\n",
       "      <th>63</th>\n",
       "      <td>163.0</td>\n",
       "      <td>162.962532</td>\n",
       "      <td>0.990579</td>\n",
       "    </tr>\n",
       "    <tr>\n",
       "      <th>64</th>\n",
       "      <td>164.0</td>\n",
       "      <td>163.945768</td>\n",
       "      <td>0.937702</td>\n",
       "    </tr>\n",
       "    <tr>\n",
       "      <th>65</th>\n",
       "      <td>165.0</td>\n",
       "      <td>164.972671</td>\n",
       "      <td>0.880218</td>\n",
       "    </tr>\n",
       "    <tr>\n",
       "      <th>66</th>\n",
       "      <td>166.0</td>\n",
       "      <td>165.832006</td>\n",
       "      <td>1.049179</td>\n",
       "    </tr>\n",
       "    <tr>\n",
       "      <th>67</th>\n",
       "      <td>167.0</td>\n",
       "      <td>166.985035</td>\n",
       "      <td>0.743704</td>\n",
       "    </tr>\n",
       "  </tbody>\n",
       "</table>\n",
       "<p>68 rows × 3 columns</p>\n",
       "</div>"
      ],
      "text/plain": [
       "    Set_point        mean  standard\n",
       "0       100.0  129.898786  2.532789\n",
       "1       101.0  129.807273  5.045454\n",
       "2       102.0  129.738034  6.343199\n",
       "3       103.0  102.578300  1.070147\n",
       "4       104.0  103.853693  3.000247\n",
       "..        ...         ...       ...\n",
       "63      163.0  162.962532  0.990579\n",
       "64      164.0  163.945768  0.937702\n",
       "65      165.0  164.972671  0.880218\n",
       "66      166.0  165.832006  1.049179\n",
       "67      167.0  166.985035  0.743704\n",
       "\n",
       "[68 rows x 3 columns]"
      ]
     },
     "execution_count": 15,
     "metadata": {},
     "output_type": "execute_result"
    }
   ],
   "source": [
    "# find average value and standard deviation\n",
    "df_group = df_pi.groupby('Set_point').agg(mean = ('Actual', 'mean'), standard = ('Actual', 'std')).reset_index()\n",
    "df_group"
   ]
  },
  {
   "cell_type": "markdown",
   "metadata": {},
   "source": [
    "Plot graph to see relation between mean value and set point. "
   ]
  },
  {
   "cell_type": "code",
   "execution_count": 16,
   "metadata": {},
   "outputs": [
    {
     "data": {
      "text/plain": [
       "<Axes: xlabel='Set_point', ylabel='mean'>"
      ]
     },
     "execution_count": 16,
     "metadata": {},
     "output_type": "execute_result"
    },
    {
     "data": {
      "image/png": "[encoded data removed]",
      "text/plain": [
       "<Figure size 640x480 with 1 Axes>"
      ]
     },
     "metadata": {},
     "output_type": "display_data"
    }
   ],
   "source": [
    "# compare value between Set data point and mean value\n",
    "sns.set_style('darkgrid')\n",
    "sns.scatterplot(df_group, x = 'Set_point', y = 'mean', color = 'salmon')"
   ]
  },
  {
   "cell_type": "markdown",
   "metadata": {},
   "source": [
    "From the plot above, some avarage value is much difference from its set point. If we use 3 SD, the alarm boundary might not be accurate due to some outliers in each set point.\\\n",
    "I decided to use box plot to check data at set point equals 141 (mean value is much difference from set point)"
   ]
  },
  {
   "cell_type": "code",
   "execution_count": 17,
   "metadata": {},
   "outputs": [
    {
     "data": {
      "image/png": "[encoded data removed]",
      "text/plain": [
       "<Figure size 800x400 with 2 Axes>"
      ]
     },
     "metadata": {},
     "output_type": "display_data"
    }
   ],
   "source": [
    "# Validate data with box plot\n",
    "# Create boxplot with outliers compared to without outliers\n",
    "fig, axes = plt.subplots(1, 2, figsize = (8,4))\n",
    "sns.boxplot(data = df_pi[df_pi['Set_point'] == 141][['Actual']], \n",
    "            showfliers = True, color = 'salmon', \n",
    "            ax = axes[0])\n",
    "axes[0].set_title(\"Data range with outliers\")\n",
    "\n",
    "# Create boxplot without outliers\n",
    "sns.boxplot(data = df_pi[df_pi['Set_point'] == 141][['Actual']], \n",
    "            showfliers = False, color = 'salmon', \n",
    "            ax = axes[1])\n",
    "axes[1].set_title(\"Data range without outliers\")\n",
    "\n",
    "# Use matplotlib's tight_layout() function to add space between plots for a cleaner appearance.\n",
    "plt.tight_layout()\n",
    "\n",
    "# Show the plot.\n",
    "plt.show()"
   ]
  },
  {
   "cell_type": "markdown",
   "metadata": {},
   "source": [
    "When remove outliers, the result makes more sense.\\\n",
    "Use 1.5 IQR from box plot might be more reliable to set alarm boundary since it removes outliers."
   ]
  },
  {
   "cell_type": "code",
   "execution_count": 18,
   "metadata": {},
   "outputs": [],
   "source": [
    "# define function to calculate uppper and lower boundary\n",
    "def box_param(data):\n",
    "    '''\n",
    "        This function will return lower and upper boundary respectively from input data as dictionary\n",
    "    '''\n",
    "    data = data.dropna()\n",
    "    Q1 = np.quantile(data, 0.25)\n",
    "    Q3 = np.quantile(data, 0.75)\n",
    "    IQR = Q3 - Q1\n",
    "    upper_whisk = round(Q3 + (1.5 * IQR), 2)\n",
    "    lower_whisk = round(Q1 - (1.5 * IQR), 2)\n",
    "    \n",
    "    return (lower_whisk, upper_whisk)"
   ]
  },
  {
   "cell_type": "code",
   "execution_count": 19,
   "metadata": {},
   "outputs": [
    {
     "data": {
      "text/html": [
       "<div>\n",
       "<style scoped>\n",
       "    .dataframe tbody tr th:only-of-type {\n",
       "        vertical-align: middle;\n",
       "    }\n",
       "\n",
       "    .dataframe tbody tr th {\n",
       "        vertical-align: top;\n",
       "    }\n",
       "\n",
       "    .dataframe thead th {\n",
       "        text-align: right;\n",
       "    }\n",
       "</style>\n",
       "<table border=\"1\" class=\"dataframe\">\n",
       "  <thead>\n",
       "    <tr style=\"text-align: right;\">\n",
       "      <th></th>\n",
       "      <th>Set_point</th>\n",
       "      <th>Boundary</th>\n",
       "      <th>lower_bound</th>\n",
       "      <th>upper_bound</th>\n",
       "    </tr>\n",
       "  </thead>\n",
       "  <tbody>\n",
       "    <tr>\n",
       "      <th>0</th>\n",
       "      <td>100.0</td>\n",
       "      <td>(121.33, 138.47)</td>\n",
       "      <td>121.33</td>\n",
       "      <td>138.47</td>\n",
       "    </tr>\n",
       "    <tr>\n",
       "      <th>1</th>\n",
       "      <td>101.0</td>\n",
       "      <td>(112.42, 147.22)</td>\n",
       "      <td>112.42</td>\n",
       "      <td>147.22</td>\n",
       "    </tr>\n",
       "    <tr>\n",
       "      <th>2</th>\n",
       "      <td>102.0</td>\n",
       "      <td>(120.77, 138.71)</td>\n",
       "      <td>120.77</td>\n",
       "      <td>138.71</td>\n",
       "    </tr>\n",
       "    <tr>\n",
       "      <th>3</th>\n",
       "      <td>103.0</td>\n",
       "      <td>(101.27, 103.85)</td>\n",
       "      <td>101.27</td>\n",
       "      <td>103.85</td>\n",
       "    </tr>\n",
       "    <tr>\n",
       "      <th>4</th>\n",
       "      <td>104.0</td>\n",
       "      <td>(101.37, 105.78)</td>\n",
       "      <td>101.37</td>\n",
       "      <td>105.78</td>\n",
       "    </tr>\n",
       "    <tr>\n",
       "      <th>...</th>\n",
       "      <td>...</td>\n",
       "      <td>...</td>\n",
       "      <td>...</td>\n",
       "      <td>...</td>\n",
       "    </tr>\n",
       "    <tr>\n",
       "      <th>63</th>\n",
       "      <td>163.0</td>\n",
       "      <td>(160.42, 165.46)</td>\n",
       "      <td>160.42</td>\n",
       "      <td>165.46</td>\n",
       "    </tr>\n",
       "    <tr>\n",
       "      <th>64</th>\n",
       "      <td>164.0</td>\n",
       "      <td>(161.61, 166.26)</td>\n",
       "      <td>161.61</td>\n",
       "      <td>166.26</td>\n",
       "    </tr>\n",
       "    <tr>\n",
       "      <th>65</th>\n",
       "      <td>165.0</td>\n",
       "      <td>(162.67, 167.25)</td>\n",
       "      <td>162.67</td>\n",
       "      <td>167.25</td>\n",
       "    </tr>\n",
       "    <tr>\n",
       "      <th>66</th>\n",
       "      <td>166.0</td>\n",
       "      <td>(163.43, 168.19)</td>\n",
       "      <td>163.43</td>\n",
       "      <td>168.19</td>\n",
       "    </tr>\n",
       "    <tr>\n",
       "      <th>67</th>\n",
       "      <td>167.0</td>\n",
       "      <td>(164.86, 169.08)</td>\n",
       "      <td>164.86</td>\n",
       "      <td>169.08</td>\n",
       "    </tr>\n",
       "  </tbody>\n",
       "</table>\n",
       "<p>68 rows × 4 columns</p>\n",
       "</div>"
      ],
      "text/plain": [
       "    Set_point          Boundary  lower_bound  upper_bound\n",
       "0       100.0  (121.33, 138.47)       121.33       138.47\n",
       "1       101.0  (112.42, 147.22)       112.42       147.22\n",
       "2       102.0  (120.77, 138.71)       120.77       138.71\n",
       "3       103.0  (101.27, 103.85)       101.27       103.85\n",
       "4       104.0  (101.37, 105.78)       101.37       105.78\n",
       "..        ...               ...          ...          ...\n",
       "63      163.0  (160.42, 165.46)       160.42       165.46\n",
       "64      164.0  (161.61, 166.26)       161.61       166.26\n",
       "65      165.0  (162.67, 167.25)       162.67       167.25\n",
       "66      166.0  (163.43, 168.19)       163.43       168.19\n",
       "67      167.0  (164.86, 169.08)       164.86       169.08\n",
       "\n",
       "[68 rows x 4 columns]"
      ]
     },
     "execution_count": 19,
     "metadata": {},
     "output_type": "execute_result"
    }
   ],
   "source": [
    "df_result = df_pi.groupby('Set_point').apply(lambda x: box_param(x['Actual'])).reset_index(name = 'Boundary')\n",
    "\n",
    "lower_bound = []\n",
    "upper_bound = []\n",
    "\n",
    "for i in df_result['Boundary']:\n",
    "    lower_bound.append(i[0])\n",
    "    upper_bound.append(i[1])\n",
    "\n",
    "df_result['lower_bound'] = lower_bound\n",
    "df_result['upper_bound'] = upper_bound\n",
    "\n",
    "df_result"
   ]
  },
  {
   "cell_type": "code",
   "execution_count": 20,
   "metadata": {},
   "outputs": [
    {
     "data": {
      "image/png": "[encoded data removed]",
      "text/plain": [
       "<Figure size 640x480 with 1 Axes>"
      ]
     },
     "metadata": {},
     "output_type": "display_data"
    }
   ],
   "source": [
    "data_unpivot_all = pd.melt(df_result, \n",
    "                            id_vars = ['Set_point'], \n",
    "                            value_vars = ['lower_bound', 'upper_bound'], \n",
    "                            value_name = 'Data Value', \n",
    "                            var_name = 'Boundary')\n",
    "\n",
    "sns.lineplot(data = data_unpivot_all, \n",
    "             x = 'Set_point', \n",
    "             y = 'Data Value', \n",
    "             hue = 'Boundary', \n",
    "             palette = ['salmon', 'salmon'], \n",
    "             linewidth = 1)\n",
    "             \n",
    "sns.scatterplot(data = df_result, x = 'Set_point', y = 'Set_point', s = 10, c = 'steelblue', marker = 'o')\n",
    "plt.legend(loc = 'lower right', facecolor = 'white')\n",
    "plt.title('Boundary Line For All Points')\n",
    "plt.show()"
   ]
  },
  {
   "cell_type": "markdown",
   "metadata": {},
   "source": [
    "From the plot above, we can see that boundary are vary a lot. This might occurs due to abnormal operation.\\\n",
    "So I use box plot again to check normal operation range."
   ]
  },
  {
   "cell_type": "code",
   "execution_count": 21,
   "metadata": {},
   "outputs": [
    {
     "data": {
      "image/png": "[encoded data removed]",
      "text/plain": [
       "<Figure size 800x400 with 2 Axes>"
      ]
     },
     "metadata": {},
     "output_type": "display_data"
    }
   ],
   "source": [
    "# Create Box plot to visualize normal operating set point\n",
    "fig, axes = plt.subplots(1, 2, figsize = (8,4))\n",
    "sns.boxplot(df_pi[['Set_point']], showfliers = True,  ax = axes[0], color = 'steelblue')\n",
    "axes[0].set_title(\"All Operation\")\n",
    "\n",
    "# Create boxplot without outliers\n",
    "\n",
    "sns.boxplot(df_pi[['Set_point']], showfliers = False, ax = axes[1], color = 'steelblue')\n",
    "axes[1].set_title(\"Normal Operation\")\n",
    "\n",
    "# Use matplotlib's tight_layout() function to add space between plots for a cleaner appearance.\n",
    "plt.tight_layout()\n",
    "\n",
    "# Show the plot.\n",
    "plt.show()"
   ]
  },
  {
   "cell_type": "markdown",
   "metadata": {},
   "source": [
    "The box plot suggests that set point lower than 135 is not normal operation.\\\n",
    "So I filter out set point that not in this range and plot again."
   ]
  },
  {
   "cell_type": "code",
   "execution_count": 28,
   "metadata": {},
   "outputs": [
    {
     "data": {
      "image/png": "[encoded data removed]",
      "text/plain": [
       "<Figure size 640x480 with 1 Axes>"
      ]
     },
     "metadata": {},
     "output_type": "display_data"
    }
   ],
   "source": [
    "# filter out and plot again\n",
    "set_bound = box_param(df_pi['Set_point'])\n",
    "\n",
    "filter_df_result = (df_result['Set_point'] >= set_bound[0]) & (df_result['Set_point'] <= set_bound[1])\n",
    "data = df_result[filter_df_result].reset_index(drop = True) # filter out data that not in normal range\n",
    "\n",
    "data_unpivot = pd.melt(data, id_vars = ['Set_point'], \n",
    "                             value_vars = ['lower_bound', 'upper_bound'], \n",
    "                             value_name = 'Data Value', \n",
    "                             var_name = 'Boundary')\n",
    "\n",
    "sns.lineplot(data = data_unpivot, \n",
    "             x = 'Set_point', \n",
    "             y = 'Data Value', \n",
    "             hue = 'Boundary', \n",
    "             palette = ['salmon', 'salmon'], \n",
    "             linewidth = 1)\n",
    "\n",
    "sns.scatterplot(data = data, x = 'Set_point', y = 'Set_point', s = 15, c = 'steelblue', marker = 'o')\n",
    "\n",
    "plt.title('Boundary for each setting point')\n",
    "plt.show()"
   ]
  },
  {
   "cell_type": "markdown",
   "metadata": {},
   "source": [
    "Visualize with box plot for each set point."
   ]
  },
  {
   "cell_type": "code",
   "execution_count": 29,
   "metadata": {},
   "outputs": [],
   "source": [
    "# Transform data for visualizing\n",
    "filter_df_pi = (df_pi['Set_point'] >= set_bound[0]) & (df_pi['Set_point'] <= set_bound[1])\n",
    "pi_pivot = df_pi[filter_df_pi].pivot(index = 'Date', columns = 'Set_point', values = 'Actual')"
   ]
  },
  {
   "cell_type": "code",
   "execution_count": 30,
   "metadata": {},
   "outputs": [
    {
     "data": {
      "image/png": "[encoded data removed]",
      "text/plain": [
       "<Figure size 600x800 with 1 Axes>"
      ]
     },
     "metadata": {},
     "output_type": "display_data"
    }
   ],
   "source": [
    "fig, ax = plt.subplots(figsize= (6,8))\n",
    "sns.boxplot(pi_pivot, showfliers = False, orient = 'h')\n",
    "plt.xlabel('Actual Value')\n",
    "plt.tight_layout()\n",
    "plt.title('Boundary for each set point', fontweight = 'bold')\n",
    "plt.show()"
   ]
  },
  {
   "cell_type": "markdown",
   "metadata": {},
   "source": [
    "Display table of data after removing abnormal point and export to excel to set boundary parameters on PI system."
   ]
  },
  {
   "cell_type": "code",
   "execution_count": 25,
   "metadata": {},
   "outputs": [
    {
     "data": {
      "text/html": [
       "<div>\n",
       "<style scoped>\n",
       "    .dataframe tbody tr th:only-of-type {\n",
       "        vertical-align: middle;\n",
       "    }\n",
       "\n",
       "    .dataframe tbody tr th {\n",
       "        vertical-align: top;\n",
       "    }\n",
       "\n",
       "    .dataframe thead th {\n",
       "        text-align: right;\n",
       "    }\n",
       "</style>\n",
       "<table border=\"1\" class=\"dataframe\">\n",
       "  <thead>\n",
       "    <tr style=\"text-align: right;\">\n",
       "      <th></th>\n",
       "      <th>Set_point</th>\n",
       "      <th>Boundary</th>\n",
       "      <th>lower_bound</th>\n",
       "      <th>upper_bound</th>\n",
       "    </tr>\n",
       "  </thead>\n",
       "  <tbody>\n",
       "    <tr>\n",
       "      <th>0</th>\n",
       "      <td>135.0</td>\n",
       "      <td>(131.36, 137.9)</td>\n",
       "      <td>131.36</td>\n",
       "      <td>137.90</td>\n",
       "    </tr>\n",
       "    <tr>\n",
       "      <th>1</th>\n",
       "      <td>136.0</td>\n",
       "      <td>(133.66, 138.22)</td>\n",
       "      <td>133.66</td>\n",
       "      <td>138.22</td>\n",
       "    </tr>\n",
       "    <tr>\n",
       "      <th>2</th>\n",
       "      <td>137.0</td>\n",
       "      <td>(133.35, 139.5)</td>\n",
       "      <td>133.35</td>\n",
       "      <td>139.50</td>\n",
       "    </tr>\n",
       "    <tr>\n",
       "      <th>3</th>\n",
       "      <td>138.0</td>\n",
       "      <td>(136.13, 139.77)</td>\n",
       "      <td>136.13</td>\n",
       "      <td>139.77</td>\n",
       "    </tr>\n",
       "    <tr>\n",
       "      <th>4</th>\n",
       "      <td>139.0</td>\n",
       "      <td>(137.24, 140.69)</td>\n",
       "      <td>137.24</td>\n",
       "      <td>140.69</td>\n",
       "    </tr>\n",
       "    <tr>\n",
       "      <th>5</th>\n",
       "      <td>140.0</td>\n",
       "      <td>(136.93, 142.46)</td>\n",
       "      <td>136.93</td>\n",
       "      <td>142.46</td>\n",
       "    </tr>\n",
       "    <tr>\n",
       "      <th>6</th>\n",
       "      <td>141.0</td>\n",
       "      <td>(135.63, 144.61)</td>\n",
       "      <td>135.63</td>\n",
       "      <td>144.61</td>\n",
       "    </tr>\n",
       "    <tr>\n",
       "      <th>7</th>\n",
       "      <td>142.0</td>\n",
       "      <td>(139.58, 144.31)</td>\n",
       "      <td>139.58</td>\n",
       "      <td>144.31</td>\n",
       "    </tr>\n",
       "    <tr>\n",
       "      <th>8</th>\n",
       "      <td>143.0</td>\n",
       "      <td>(138.4, 146.46)</td>\n",
       "      <td>138.40</td>\n",
       "      <td>146.46</td>\n",
       "    </tr>\n",
       "    <tr>\n",
       "      <th>9</th>\n",
       "      <td>144.0</td>\n",
       "      <td>(141.61, 146.24)</td>\n",
       "      <td>141.61</td>\n",
       "      <td>146.24</td>\n",
       "    </tr>\n",
       "    <tr>\n",
       "      <th>10</th>\n",
       "      <td>145.0</td>\n",
       "      <td>(141.62, 147.64)</td>\n",
       "      <td>141.62</td>\n",
       "      <td>147.64</td>\n",
       "    </tr>\n",
       "    <tr>\n",
       "      <th>11</th>\n",
       "      <td>146.0</td>\n",
       "      <td>(143.32, 148.26)</td>\n",
       "      <td>143.32</td>\n",
       "      <td>148.26</td>\n",
       "    </tr>\n",
       "    <tr>\n",
       "      <th>12</th>\n",
       "      <td>147.0</td>\n",
       "      <td>(143.22, 149.81)</td>\n",
       "      <td>143.22</td>\n",
       "      <td>149.81</td>\n",
       "    </tr>\n",
       "    <tr>\n",
       "      <th>13</th>\n",
       "      <td>148.0</td>\n",
       "      <td>(145.46, 150.42)</td>\n",
       "      <td>145.46</td>\n",
       "      <td>150.42</td>\n",
       "    </tr>\n",
       "    <tr>\n",
       "      <th>14</th>\n",
       "      <td>149.0</td>\n",
       "      <td>(146.19, 151.77)</td>\n",
       "      <td>146.19</td>\n",
       "      <td>151.77</td>\n",
       "    </tr>\n",
       "    <tr>\n",
       "      <th>15</th>\n",
       "      <td>150.0</td>\n",
       "      <td>(147.26, 152.42)</td>\n",
       "      <td>147.26</td>\n",
       "      <td>152.42</td>\n",
       "    </tr>\n",
       "    <tr>\n",
       "      <th>16</th>\n",
       "      <td>151.0</td>\n",
       "      <td>(148.35, 153.49)</td>\n",
       "      <td>148.35</td>\n",
       "      <td>153.49</td>\n",
       "    </tr>\n",
       "    <tr>\n",
       "      <th>17</th>\n",
       "      <td>152.0</td>\n",
       "      <td>(149.34, 154.49)</td>\n",
       "      <td>149.34</td>\n",
       "      <td>154.49</td>\n",
       "    </tr>\n",
       "    <tr>\n",
       "      <th>18</th>\n",
       "      <td>153.0</td>\n",
       "      <td>(149.16, 155.99)</td>\n",
       "      <td>149.16</td>\n",
       "      <td>155.99</td>\n",
       "    </tr>\n",
       "    <tr>\n",
       "      <th>19</th>\n",
       "      <td>154.0</td>\n",
       "      <td>(151.09, 156.56)</td>\n",
       "      <td>151.09</td>\n",
       "      <td>156.56</td>\n",
       "    </tr>\n",
       "    <tr>\n",
       "      <th>20</th>\n",
       "      <td>155.0</td>\n",
       "      <td>(152.21, 157.43)</td>\n",
       "      <td>152.21</td>\n",
       "      <td>157.43</td>\n",
       "    </tr>\n",
       "    <tr>\n",
       "      <th>21</th>\n",
       "      <td>156.0</td>\n",
       "      <td>(153.03, 158.64)</td>\n",
       "      <td>153.03</td>\n",
       "      <td>158.64</td>\n",
       "    </tr>\n",
       "    <tr>\n",
       "      <th>22</th>\n",
       "      <td>157.0</td>\n",
       "      <td>(154.34, 159.34)</td>\n",
       "      <td>154.34</td>\n",
       "      <td>159.34</td>\n",
       "    </tr>\n",
       "    <tr>\n",
       "      <th>23</th>\n",
       "      <td>158.0</td>\n",
       "      <td>(155.39, 160.44)</td>\n",
       "      <td>155.39</td>\n",
       "      <td>160.44</td>\n",
       "    </tr>\n",
       "    <tr>\n",
       "      <th>24</th>\n",
       "      <td>159.0</td>\n",
       "      <td>(156.33, 161.36)</td>\n",
       "      <td>156.33</td>\n",
       "      <td>161.36</td>\n",
       "    </tr>\n",
       "    <tr>\n",
       "      <th>25</th>\n",
       "      <td>160.0</td>\n",
       "      <td>(155.97, 162.89)</td>\n",
       "      <td>155.97</td>\n",
       "      <td>162.89</td>\n",
       "    </tr>\n",
       "    <tr>\n",
       "      <th>26</th>\n",
       "      <td>161.0</td>\n",
       "      <td>(158.59, 163.28)</td>\n",
       "      <td>158.59</td>\n",
       "      <td>163.28</td>\n",
       "    </tr>\n",
       "    <tr>\n",
       "      <th>27</th>\n",
       "      <td>162.0</td>\n",
       "      <td>(159.45, 164.5)</td>\n",
       "      <td>159.45</td>\n",
       "      <td>164.50</td>\n",
       "    </tr>\n",
       "    <tr>\n",
       "      <th>28</th>\n",
       "      <td>163.0</td>\n",
       "      <td>(160.42, 165.46)</td>\n",
       "      <td>160.42</td>\n",
       "      <td>165.46</td>\n",
       "    </tr>\n",
       "    <tr>\n",
       "      <th>29</th>\n",
       "      <td>164.0</td>\n",
       "      <td>(161.61, 166.26)</td>\n",
       "      <td>161.61</td>\n",
       "      <td>166.26</td>\n",
       "    </tr>\n",
       "    <tr>\n",
       "      <th>30</th>\n",
       "      <td>165.0</td>\n",
       "      <td>(162.67, 167.25)</td>\n",
       "      <td>162.67</td>\n",
       "      <td>167.25</td>\n",
       "    </tr>\n",
       "    <tr>\n",
       "      <th>31</th>\n",
       "      <td>166.0</td>\n",
       "      <td>(163.43, 168.19)</td>\n",
       "      <td>163.43</td>\n",
       "      <td>168.19</td>\n",
       "    </tr>\n",
       "    <tr>\n",
       "      <th>32</th>\n",
       "      <td>167.0</td>\n",
       "      <td>(164.86, 169.08)</td>\n",
       "      <td>164.86</td>\n",
       "      <td>169.08</td>\n",
       "    </tr>\n",
       "  </tbody>\n",
       "</table>\n",
       "</div>"
      ],
      "text/plain": [
       "    Set_point          Boundary  lower_bound  upper_bound\n",
       "0       135.0   (131.36, 137.9)       131.36       137.90\n",
       "1       136.0  (133.66, 138.22)       133.66       138.22\n",
       "2       137.0   (133.35, 139.5)       133.35       139.50\n",
       "3       138.0  (136.13, 139.77)       136.13       139.77\n",
       "4       139.0  (137.24, 140.69)       137.24       140.69\n",
       "5       140.0  (136.93, 142.46)       136.93       142.46\n",
       "6       141.0  (135.63, 144.61)       135.63       144.61\n",
       "7       142.0  (139.58, 144.31)       139.58       144.31\n",
       "8       143.0   (138.4, 146.46)       138.40       146.46\n",
       "9       144.0  (141.61, 146.24)       141.61       146.24\n",
       "10      145.0  (141.62, 147.64)       141.62       147.64\n",
       "11      146.0  (143.32, 148.26)       143.32       148.26\n",
       "12      147.0  (143.22, 149.81)       143.22       149.81\n",
       "13      148.0  (145.46, 150.42)       145.46       150.42\n",
       "14      149.0  (146.19, 151.77)       146.19       151.77\n",
       "15      150.0  (147.26, 152.42)       147.26       152.42\n",
       "16      151.0  (148.35, 153.49)       148.35       153.49\n",
       "17      152.0  (149.34, 154.49)       149.34       154.49\n",
       "18      153.0  (149.16, 155.99)       149.16       155.99\n",
       "19      154.0  (151.09, 156.56)       151.09       156.56\n",
       "20      155.0  (152.21, 157.43)       152.21       157.43\n",
       "21      156.0  (153.03, 158.64)       153.03       158.64\n",
       "22      157.0  (154.34, 159.34)       154.34       159.34\n",
       "23      158.0  (155.39, 160.44)       155.39       160.44\n",
       "24      159.0  (156.33, 161.36)       156.33       161.36\n",
       "25      160.0  (155.97, 162.89)       155.97       162.89\n",
       "26      161.0  (158.59, 163.28)       158.59       163.28\n",
       "27      162.0   (159.45, 164.5)       159.45       164.50\n",
       "28      163.0  (160.42, 165.46)       160.42       165.46\n",
       "29      164.0  (161.61, 166.26)       161.61       166.26\n",
       "30      165.0  (162.67, 167.25)       162.67       167.25\n",
       "31      166.0  (163.43, 168.19)       163.43       168.19\n",
       "32      167.0  (164.86, 169.08)       164.86       169.08"
      ]
     },
     "metadata": {},
     "output_type": "display_data"
    }
   ],
   "source": [
    "# show result in table\n",
    "display(data)"
   ]
  },
  {
   "cell_type": "code",
   "execution_count": 28,
   "metadata": {},
   "outputs": [],
   "source": [
    "# Export boundary data to set up on PI system\n",
    "data.to_excel('Boundary_PVC9-EIC4501B.xlsx', index = False)"
   ]
  }
 ],
 "metadata": {
  "kernelspec": {
   "display_name": "Python 3 (ipykernel)",
   "language": "python",
   "name": "python3"
  },
  "language_info": {
   "codemirror_mode": {
    "name": "ipython",
    "version": 3
   },
   "file_extension": ".py",
   "mimetype": "text/x-python",
   "name": "python",
   "nbconvert_exporter": "python",
   "pygments_lexer": "ipython3",
   "version": "3.10.9"
  }
 },
 "nbformat": 4,
 "nbformat_minor": 2
}
